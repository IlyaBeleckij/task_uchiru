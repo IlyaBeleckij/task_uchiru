{
 "cells": [
  {
   "cell_type": "code",
   "execution_count": 39,
   "metadata": {},
   "outputs": [],
   "source": [
    "from sqlalchemy import create_engine\n",
    "import pandas as pd\n",
    "import random"
   ]
  },
  {
   "cell_type": "code",
   "execution_count": 41,
   "metadata": {},
   "outputs": [],
   "source": [
    "postgres_str = ('postgresql://{username}:{password}@{ipaddress}:{port}/{dbname}'\n",
    ".format(username=POSTGRES_USERNAME,\n",
    "password=POSTGRES_PASSWORD,\n",
    "ipaddress=POSTGRES_ADDRESS,\n",
    "port=POSTGRES_PORT,\n",
    "dbname=POSTGRES_DBNAME))\n",
    "cnx = create_engine(postgres_str, connect_args={'sslmode':'require'})"
   ]
  },
  {
   "cell_type": "code",
   "execution_count": 204,
   "metadata": {},
   "outputs": [
    {
     "data": {
      "text/plain": [
       "9331200"
      ]
     },
     "execution_count": 204,
     "metadata": {},
     "output_type": "execute_result"
    }
   ],
   "source": [
    "start_timestamp = 1582698335\n",
    "end_timestamp = 1582698335 + 9331200\n",
    "end_timestamp - start_timestamp"
   ]
  },
  {
   "cell_type": "code",
   "execution_count": 221,
   "metadata": {},
   "outputs": [],
   "source": [
    "studs_d = {\n",
    "    'st_id': random.sample(range(40), 40),\n",
    "    'test_grp': 'non'\n",
    "}"
   ]
  },
  {
   "cell_type": "code",
   "execution_count": 222,
   "metadata": {},
   "outputs": [],
   "source": [
    "studs = pd.DataFrame(data=studs_d)\n",
    "test_ids = studs.st_id.sample(3)\n",
    "studs.test_grp = studs.test_grp.apply(lambda x: 'test' if x in test_ids else 'control')"
   ]
  },
  {
   "cell_type": "code",
   "execution_count": 223,
   "metadata": {},
   "outputs": [],
   "source": [
    "checks_d = {\n",
    "    'st_id': studs.st_id[:10].sample(9332, replace=True),\n",
    "    'sale_time': pd.to_datetime([i for i in range(start_timestamp, end_timestamp, 1000)], unit='s'),\n",
    "    'subject': [random.choice(['math', 'biology']) for i in range(9332)],\n",
    "    'money':   [random.choice([3, 2.9, 1.5, 0.7, 0.5]) for i in range(9332)]\n",
    "}"
   ]
  },
  {
   "cell_type": "code",
   "execution_count": 224,
   "metadata": {},
   "outputs": [],
   "source": [
    "checks = pd.DataFrame(data=checks_d)"
   ]
  },
  {
   "cell_type": "code",
   "execution_count": 225,
   "metadata": {},
   "outputs": [],
   "source": [
    "peas_d = {\n",
    "    'st_id': studs.st_id.sample(933120, replace=True),\n",
    "    'timest': pd.to_datetime([i for i in range(start_timestamp - 5, end_timestamp - 5, 10)], unit='s'),\n",
    "    'correct': [random.choice([0, 1, 1]) for i in range(933120)],\n",
    "    'subject': ['math' for i in range(933120)],\n",
    "}"
   ]
  },
  {
   "cell_type": "code",
   "execution_count": 226,
   "metadata": {},
   "outputs": [],
   "source": [
    "peas = pd.DataFrame(data=peas_d)"
   ]
  },
  {
   "cell_type": "code",
   "execution_count": 227,
   "metadata": {},
   "outputs": [],
   "source": [
    "peas.to_sql('peas', cnx)"
   ]
  },
  {
   "cell_type": "code",
   "execution_count": 228,
   "metadata": {},
   "outputs": [],
   "source": [
    "checks.to_sql('checks', cnx)"
   ]
  },
  {
   "cell_type": "code",
   "execution_count": 229,
   "metadata": {},
   "outputs": [],
   "source": [
    "studs.to_sql('studs', cnx)"
   ]
  }
 ],
 "metadata": {
  "kernelspec": {
   "display_name": "Python 3",
   "language": "python",
   "name": "python3"
  },
  "language_info": {
   "codemirror_mode": {
    "name": "ipython",
    "version": 3
   },
   "file_extension": ".py",
   "mimetype": "text/x-python",
   "name": "python",
   "nbconvert_exporter": "python",
   "pygments_lexer": "ipython3",
   "version": "3.7.3"
  }
 },
 "nbformat": 4,
 "nbformat_minor": 4
}
