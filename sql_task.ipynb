{
 "cells": [
  {
   "cell_type": "code",
   "execution_count": 7,
   "metadata": {},
   "outputs": [],
   "source": [
    "from sqlalchemy import create_engine\n",
    "import pandas as pd"
   ]
  },
  {
   "cell_type": "code",
   "execution_count": 4,
   "metadata": {},
   "outputs": [],
   "source": [
    "postgres_str = ('postgresql://{username}:{password}@{ipaddress}:{port}/{dbname}'\n",
    ".format(username=POSTGRES_USERNAME,\n",
    "password=POSTGRES_PASSWORD,\n",
    "ipaddress=POSTGRES_ADDRESS,\n",
    "port=POSTGRES_PORT,\n",
    "dbname=POSTGRES_DBNAME))\n",
    "cnx = create_engine(postgres_str, connect_args={'sslmode':'require'})"
   ]
  },
  {
   "cell_type": "code",
   "execution_count": 5,
   "metadata": {},
   "outputs": [],
   "source": [
    "q = \"\"\"\n",
    "SELECT \n",
    "        DISTINCT ON(st_id) st_id as active_users_id\n",
    "FROM \n",
    "        peas\n",
    "WHERE \n",
    "        date_trunc('month', timest) = '2020-03-01' and correct = True\n",
    "GROUP BY\n",
    "        st_id\n",
    "    ,   date_trunc('hour', timest)\n",
    "HAVING\n",
    "count(correct) >= 20\n",
    "LIMIT 5\n",
    "\"\"\""
   ]
  },
  {
   "cell_type": "code",
   "execution_count": 6,
   "metadata": {},
   "outputs": [
    {
     "data": {
      "text/html": [
       "<div>\n",
       "<style scoped>\n",
       "    .dataframe tbody tr th:only-of-type {\n",
       "        vertical-align: middle;\n",
       "    }\n",
       "\n",
       "    .dataframe tbody tr th {\n",
       "        vertical-align: top;\n",
       "    }\n",
       "\n",
       "    .dataframe thead th {\n",
       "        text-align: right;\n",
       "    }\n",
       "</style>\n",
       "<table border=\"1\" class=\"dataframe\">\n",
       "  <thead>\n",
       "    <tr style=\"text-align: right;\">\n",
       "      <th></th>\n",
       "      <th>active_users_id</th>\n",
       "    </tr>\n",
       "  </thead>\n",
       "  <tbody>\n",
       "    <tr>\n",
       "      <th>0</th>\n",
       "      <td>1</td>\n",
       "    </tr>\n",
       "    <tr>\n",
       "      <th>1</th>\n",
       "      <td>6</td>\n",
       "    </tr>\n",
       "    <tr>\n",
       "      <th>2</th>\n",
       "      <td>9</td>\n",
       "    </tr>\n",
       "    <tr>\n",
       "      <th>3</th>\n",
       "      <td>12</td>\n",
       "    </tr>\n",
       "    <tr>\n",
       "      <th>4</th>\n",
       "      <td>18</td>\n",
       "    </tr>\n",
       "  </tbody>\n",
       "</table>\n",
       "</div>"
      ],
      "text/plain": [
       "   active_users_id\n",
       "0                1\n",
       "1                6\n",
       "2                9\n",
       "3               12\n",
       "4               18"
      ]
     },
     "execution_count": 6,
     "metadata": {},
     "output_type": "execute_result"
    }
   ],
   "source": [
    "pd.read_sql(q, cnx)"
   ]
  },
  {
   "cell_type": "code",
   "execution_count": 32,
   "metadata": {},
   "outputs": [],
   "source": [
    "q = \"\"\"\n",
    "WITH client AS (SELECT \n",
    "      DISTINCT ON(r.st_id) r.st_id AS client_id\n",
    "FROM studs AS l RIGHT JOIN checks AS r\n",
    "ON l.st_id = r.st_id)\n",
    ",   active_user AS (SELECT \n",
    "        DISTINCT ON(st_id) st_id AS active_user_id\n",
    "     FROM peas WHERE correct = True GROUP BY\n",
    "         st_id\n",
    "    ,    date_trunc('hour', timest)\n",
    "     HAVING count(correct) >= 20)\n",
    ",   active_math_user AS (SELECT\n",
    "    DISTINCT ON(st_id) st_id AS active_math_user_id\n",
    "FROM peas WHERE subject = 'math' and correct = True GROUP BY\n",
    "       st_id\n",
    "    ,  date_trunc('hour', timest)\n",
    "HAVING count(correct) >= 20)\n",
    ",\n",
    " active_client AS (SELECT\n",
    "        r.st_id AS active_client_id FROM client AS l\n",
    "LEFT JOIN peas AS r\n",
    "ON l.client_id = r.st_id\n",
    "WHERE correct = True\n",
    "GROUP BY\n",
    "        r.st_id\n",
    "    ,   date_trunc('hour', timest)\n",
    "HAVING count(correct) >= 20)\n",
    ",\n",
    "    active_math AS (SELECT\n",
    "        r.st_id AS active_math_id\n",
    "FROM\n",
    "        client AS l\n",
    "LEFT JOIN peas AS r ON l.client_id = r.st_id\n",
    "WHERE subject = 'math' and correct = True\n",
    "GROUP BY\n",
    "        r.st_id\n",
    "    ,   date_trunc('hour', timest)\n",
    "HAVING count(correct) >= 20)\n",
    "SELECT \n",
    "        SUM(money) / (SELECT COUNT(st_id) FROM studs) AS ARPU\n",
    "    ,   SUM(money) / (SELECT COUNT(active_user_id) FROM active_user) AS ARPAU\n",
    "    ,   (SELECT count(client_id)::numeric FROM client) /\n",
    "    (SELECT COUNT(st_id) FROM studs) AS CR\n",
    "    ,   (SELECT count(active_client_id)::numeric FROM active_client) /\n",
    "    (SELECT count(active_user_id)::numeric FROM active_user) \n",
    "    AS active_CR\n",
    "    ,   (SELECT count(active_math_id)::numeric FROM active_math) / \n",
    "    (SELECT count(active_math_user_id) FROM active_math_user)\n",
    "    AS active_math_CR\n",
    "    FROM checks\n",
    "\n",
    "\"\"\""
   ]
  },
  {
   "cell_type": "code",
   "execution_count": 33,
   "metadata": {},
   "outputs": [
    {
     "data": {
      "text/html": [
       "<div>\n",
       "<style scoped>\n",
       "    .dataframe tbody tr th:only-of-type {\n",
       "        vertical-align: middle;\n",
       "    }\n",
       "\n",
       "    .dataframe tbody tr th {\n",
       "        vertical-align: top;\n",
       "    }\n",
       "\n",
       "    .dataframe thead th {\n",
       "        text-align: right;\n",
       "    }\n",
       "</style>\n",
       "<table border=\"1\" class=\"dataframe\">\n",
       "  <thead>\n",
       "    <tr style=\"text-align: right;\">\n",
       "      <th></th>\n",
       "      <th>arpu</th>\n",
       "      <th>arpau</th>\n",
       "      <th>cr</th>\n",
       "      <th>active_cr</th>\n",
       "      <th>active_math_cr</th>\n",
       "    </tr>\n",
       "  </thead>\n",
       "  <tbody>\n",
       "    <tr>\n",
       "      <th>0</th>\n",
       "      <td>399.71</td>\n",
       "      <td>761.352381</td>\n",
       "      <td>0.25</td>\n",
       "      <td>0.238095</td>\n",
       "      <td>0.2</td>\n",
       "    </tr>\n",
       "  </tbody>\n",
       "</table>\n",
       "</div>"
      ],
      "text/plain": [
       "     arpu       arpau    cr  active_cr  active_math_cr\n",
       "0  399.71  761.352381  0.25   0.238095             0.2"
      ]
     },
     "execution_count": 33,
     "metadata": {},
     "output_type": "execute_result"
    }
   ],
   "source": [
    "pd.read_sql(q, cnx)"
   ]
  }
 ],
 "metadata": {
  "kernelspec": {
   "display_name": "Python 3",
   "language": "python",
   "name": "python3"
  },
  "language_info": {
   "codemirror_mode": {
    "name": "ipython",
    "version": 3
   },
   "file_extension": ".py",
   "mimetype": "text/x-python",
   "name": "python",
   "nbconvert_exporter": "python",
   "pygments_lexer": "ipython3",
   "version": "3.7.3"
  }
 },
 "nbformat": 4,
 "nbformat_minor": 4
}
